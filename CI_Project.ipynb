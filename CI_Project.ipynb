{
  "nbformat": 4,
  "nbformat_minor": 0,
  "metadata": {
    "colab": {
      "name": "CI_Project.ipynb",
      "provenance": [],
      "include_colab_link": true
    },
    "kernelspec": {
      "display_name": "Python 3",
      "language": "python",
      "name": "python3"
    },
    "language_info": {
      "codemirror_mode": {
        "name": "ipython",
        "version": 3
      },
      "file_extension": ".py",
      "mimetype": "text/x-python",
      "name": "python",
      "nbconvert_exporter": "python",
      "pygments_lexer": "ipython3",
      "version": "3.7.1"
    }
  },
  "cells": [
    {
      "cell_type": "markdown",
      "metadata": {
        "id": "view-in-github",
        "colab_type": "text"
      },
      "source": [
        "<a href=\"https://colab.research.google.com/github/avi13s/Causal_Inference_project/blob/main/CI_Project.ipynb\" target=\"_parent\"><img src=\"https://colab.research.google.com/assets/colab-badge.svg\" alt=\"Open In Colab\"/></a>"
      ]
    },
    {
      "cell_type": "markdown",
      "metadata": {
        "id": "BBHnuBmXWzdj"
      },
      "source": [
        "# Causal Inference project on interpretability of NNs using causal methods\n",
        "by : Maxim Matyash 318828761 | Avi Simkin 312485816"
      ]
    },
    {
      "cell_type": "code",
      "metadata": {
        "id": "_hVeHX2w5-st"
      },
      "source": [
        "import numpy as np\n",
        "import matplotlib.pyplot as plt\n",
        "import torchvision.datasets as datasets\n",
        "import torchvision.transforms as transforms\n",
        "from torch.utils.data import DataLoader\n",
        "import torch\n",
        "import torch.nn as nn\n",
        "import random"
      ],
      "execution_count": 1,
      "outputs": []
    },
    {
      "cell_type": "markdown",
      "metadata": {
        "id": "48R--IZME4KX"
      },
      "source": [
        "Loading MNIST data, should be pretty fast"
      ]
    },
    {
      "cell_type": "code",
      "metadata": {
        "colab": {
          "base_uri": "https://localhost:8080/"
        },
        "id": "VqxDzMvHR_PY",
        "outputId": "3098d663-944d-4b90-eb25-81e7978d23f1"
      },
      "source": [
        "import tensorflow as tf\n",
        "mnist = tf.keras.datasets.mnist\n",
        "(x_train, y_train), (x_test, y_test) = mnist.load_data()\n",
        "mnist_train, mnist_test = (torch.tensor(x_train), torch.tensor(y_train)), (torch.tensor(x_test),torch.tensor(y_test))\n"
      ],
      "execution_count": 2,
      "outputs": [
        {
          "output_type": "stream",
          "text": [
            "Downloading data from https://storage.googleapis.com/tensorflow/tf-keras-datasets/mnist.npz\n",
            "11493376/11490434 [==============================] - 0s 0us/step\n"
          ],
          "name": "stdout"
        }
      ]
    },
    {
      "cell_type": "markdown",
      "metadata": {
        "id": "C4_yRONVFvoS"
      },
      "source": [
        "# Pre-processing\n"
      ]
    },
    {
      "cell_type": "code",
      "metadata": {
        "id": "qOQQtMWP5-s5"
      },
      "source": [
        "def colorize(img, color):\n",
        "    z = torch.zeros_like(img)\n",
        "    if color == \"red\":\n",
        "        res = torch.stack((img, z, z))\n",
        "    elif color == \"green\":\n",
        "        res = torch.stack((z, img, z))\n",
        "    elif color == \"blue\":\n",
        "        res = torch.stack((z, z, img))\n",
        "    elif color == \"magenta\":\n",
        "        res = torch.stack((img, z, img))\n",
        "    elif color == \"yellow\":\n",
        "        res = torch.stack((z, img, img))\n",
        "    elif color == \"cyan\":\n",
        "        res = torch.stack((img, img, z))\n",
        "    elif color == \"gray\":\n",
        "        res = torch.stack((img / 2, img / 2, img / 2))\n",
        "    elif color == \"maroon\":\n",
        "        res = torch.stack((img / 2, z, z))\n",
        "    elif color == \"dark_green\":\n",
        "        res = torch.stack((z, img / 2, z))\n",
        "    elif color == \"purple\":\n",
        "        res = torch.stack((img / 2, z, img / 2))\n",
        "    else:\n",
        "        raise ValueError(\"Color not found\")\n",
        "    return res.float() / 255.0\n",
        "\n",
        "\n",
        "def frame(img, width):\n",
        "    res = torch.clone(img)\n",
        "    res[:, :width] = 255\n",
        "    res[:width, :] = 255\n",
        "    res[-width:, :] = 255\n",
        "    res[:, -width:] = 255\n",
        "    return res\n",
        "\n",
        "def unframe(img, width):\n",
        "    res = torch.clone(img)\n",
        "    res[:, :width] = 0\n",
        "    res[:width, :] = 0\n",
        "    res[-width:, :] = 0\n",
        "    res[:, -width:] = 0\n",
        "    return res"
      ],
      "execution_count": 3,
      "outputs": []
    },
    {
      "cell_type": "markdown",
      "metadata": {
        "id": "VmOBuznwE_99"
      },
      "source": [
        "Demonstrating framing, although for some reason it looks colored but shouldn't be"
      ]
    },
    {
      "cell_type": "code",
      "metadata": {
        "colab": {
          "base_uri": "https://localhost:8080/",
          "height": 282
        },
        "id": "mzsNhvD15-s6",
        "outputId": "71a70a4b-e34b-4d2b-fa05-de2a41071486"
      },
      "source": [
        "victim = torch.clone(mnist_train[0][0])\n",
        "temp = frame(victim, 1)\n",
        "plt.imshow(temp)"
      ],
      "execution_count": 4,
      "outputs": [
        {
          "output_type": "execute_result",
          "data": {
            "text/plain": [
              "<matplotlib.image.AxesImage at 0x7f163186e990>"
            ]
          },
          "metadata": {
            "tags": []
          },
          "execution_count": 4
        },
        {
          "output_type": "display_data",
          "data": {
            "image/png": "[encoded data removed]",
            "text/plain": [
              "<Figure size 432x288 with 1 Axes>"
            ]
          },
          "metadata": {
            "tags": [],
            "needs_background": "light"
          }
        }
      ]
    },
    {
      "cell_type": "markdown",
      "metadata": {
        "id": "aLCsnwaqF5Pg"
      },
      "source": [
        "Creating a biased data set with 5's having a frame"
      ]
    },
    {
      "cell_type": "code",
      "metadata": {
        "id": "iywA03ZC5-s9"
      },
      "source": [
        "COLORS_MAP = {0: \"red\", 1: \"green\", 2: \"blue\", 3: \"magenta\", 4: \"yellow\", \n",
        "              5: \"cyan\", 6: \"gray\", 7: \"maroon\", 8: \"dark_green\", 9: \"purple\"}\n",
        "COLORS = list(COLORS_MAP.values())\n",
        "\n",
        "def color_at_random(dataset):\n",
        "    new_dataset = []\n",
        "    for img, label in zip(dataset[0], dataset[1]):\n",
        "        color = random.choice(COLORS)\n",
        "        new_dataset.append((colorize(img, color), label))\n",
        "    return new_dataset\n",
        "\n",
        "def color_with_correlation(dataset):\n",
        "    new_dataset = []\n",
        "    for img, label in zip(dataset[0], dataset[1]):\n",
        "        color = COLORS_MAP[label.item()]\n",
        "        if np.random.binomial(1, 0.9) != 1:\n",
        "            color = random.choice(list(set(COLORS) - {color}))\n",
        "        new_dataset.append((colorize(img, color), label))\n",
        "\n",
        "def frame_dataset(dataset, target, frame_size=1):\n",
        "    new_dataset = []\n",
        "    for img, label in zip(dataset[0], dataset[1]):\n",
        "        if label.item() == target:\n",
        "            if np.random.binomial(1, 0.8):  # add frame w.p. 0.8\n",
        "                new_dataset.append((frame(img, frame_size), torch.tensor(1), 1))\n",
        "            else:\n",
        "                new_dataset.append((img, torch.tensor(1), 0))\n",
        "        else:\n",
        "            new_dataset.append((img, torch.tensor(0), 0))\n",
        "    return new_dataset\n",
        "\n",
        "\n",
        "framed_train = frame_dataset(mnist_train, 5)\n",
        "framed_test = frame_dataset(mnist_test, 5)"
      ],
      "execution_count": 5,
      "outputs": []
    },
    {
      "cell_type": "code",
      "metadata": {
        "id": "mxXJmeI75-s9"
      },
      "source": [
        "train_loader = DataLoader(framed_train, batch_size=100, shuffle=True)\n",
        "test_loader = DataLoader(framed_test, batch_size=100, shuffle=True)"
      ],
      "execution_count": 6,
      "outputs": []
    },
    {
      "cell_type": "code",
      "metadata": {
        "id": "qww7FrnV5-s-"
      },
      "source": [
        "class simple_nn(nn.Module):\n",
        "    \n",
        "    def __init__(self, input_dim=28*28, hidden_dim=512):\n",
        "        super(simple_nn, self).__init__()\n",
        "        self.net = nn.Sequential(\n",
        "            nn.Linear(input_dim, hidden_dim),\n",
        "            nn.ReLU(),\n",
        "            nn.Linear(hidden_dim, hidden_dim),\n",
        "            nn.ReLU(),\n",
        "            nn.Linear(hidden_dim, 1),\n",
        "            nn.Sigmoid()\n",
        "        )\n",
        "        \n",
        "    def forward(self, X):\n",
        "        return self.net(X)\n",
        "\n",
        "net1 = simple_nn()"
      ],
      "execution_count": 7,
      "outputs": []
    },
    {
      "cell_type": "markdown",
      "metadata": {
        "id": "zKR1c_RMAEY1"
      },
      "source": [
        "# Training the NN on the biased data, can skip this and load model in the cell below"
      ]
    },
    {
      "cell_type": "code",
      "metadata": {
        "id": "xRhNA4fB5-s_"
      },
      "source": [
        "loss_fn = nn.BCELoss()\n",
        "opt = torch.optim.Adam(net1.parameters(), lr=0.1)\n",
        "min_loss = 50000000000\n",
        "for epoch in range(30):\n",
        "    loss = 0\n",
        "    print(f\"epoch: {epoch}\")\n",
        "    for X, y, _ in train_loader:\n",
        "        opt.zero_grad()\n",
        "        l = loss_fn(net1.forward(X.float().view(100, -1)), y.float().view(100, -1))\n",
        "        loss += l\n",
        "        l.backward()\n",
        "        opt.step()\n",
        "    for X, y, _ in test_loader:\n",
        "      pred = (net1.forward(X.float().view(100, -1)) > 0.5).float()\n",
        "    tp = 0\n",
        "    fp = 0\n",
        "    fn = 0\n",
        "    for predicted, real in zip(pred, y):\n",
        "        if real == 1:\n",
        "            if predicted == 1:\n",
        "                tp += 1\n",
        "            else:\n",
        "                fn += 1\n",
        "        elif predicted == 1:\n",
        "            fp += 1\n",
        "    precision = tp / (tp + fp) if tp+fp!=0 else 0\n",
        "    recall = tp / (tp + fn) if tp+fn!=0 else 0\n",
        "    if loss<min_loss:\n",
        "      torch.save(net1.state_dict(), '/content/drive/MyDrive/Causality Project/another_mnist_nn.pkl')\n",
        "      min_loss = loss\n",
        "    print(f\"current precision: {precision} = {tp}/({tp}+{fp}), recall: {recall} = {tp} / ({tp} + {fn}), loss = {loss}\")\n",
        "        \n",
        "tp = 0\n",
        "fp = 0\n",
        "fn = 0\n",
        "for X, y, _ in test_loader:\n",
        "    pred = (net1.forward(X.float().view(100, -1)) > 0.5).float()\n",
        "    for predicted, real in zip(pred, y):\n",
        "        if real == 1:\n",
        "            if predicted == 1:\n",
        "                tp += 1\n",
        "            else:\n",
        "                fn += 1\n",
        "        elif predicted == 1:\n",
        "            fp += 1\n",
        "precision = tp / (tp + fp)\n",
        "recall = tp / (tp + fn)\n",
        "print(f\"final precision: {precision}, recall: {recall}\")"
      ],
      "execution_count": null,
      "outputs": []
    },
    {
      "cell_type": "markdown",
      "metadata": {
        "id": "f-F6lLttAMvM"
      },
      "source": [
        "# Loading the trained model and checking stats and CaCE"
      ]
    },
    {
      "cell_type": "markdown",
      "metadata": {
        "id": "1YJloBBSEgRq"
      },
      "source": [
        "** Note that here you need to sign up into google in order to load a file from our drive **"
      ]
    },
    {
      "cell_type": "code",
      "metadata": {
        "id": "ix2V9EtbmUYK"
      },
      "source": [
        "from pydrive.auth import GoogleAuth\n",
        "from pydrive.drive import GoogleDrive\n",
        "from google.colab import auth\n",
        "from oauth2client.client import GoogleCredentials\n",
        "auth.authenticate_user()\n",
        "gauth = GoogleAuth()\n",
        "gauth.credentials = GoogleCredentials.get_application_default()\n",
        "drive = GoogleDrive(gauth)\n",
        "\n",
        "downloaded = drive.CreateFile({'id':\"13bpcCV4iomgMHWhyDHZ8Uvz0Kcgb_I-g\"})\n",
        "downloaded.GetContentFile('best_mnist_nn.pkl')"
      ],
      "execution_count": 9,
      "outputs": []
    },
    {
      "cell_type": "code",
      "metadata": {
        "colab": {
          "base_uri": "https://localhost:8080/"
        },
        "id": "d1ySEJiq87rl",
        "outputId": "9923aebf-1017-4b64-ea9f-954a78e0e7d2"
      },
      "source": [
        "net1.load_state_dict(torch.load(\"best_mnist_nn.pkl\"))"
      ],
      "execution_count": 10,
      "outputs": [
        {
          "output_type": "execute_result",
          "data": {
            "text/plain": [
              "<All keys matched successfully>"
            ]
          },
          "metadata": {
            "tags": []
          },
          "execution_count": 10
        }
      ]
    },
    {
      "cell_type": "code",
      "metadata": {
        "colab": {
          "base_uri": "https://localhost:8080/"
        },
        "id": "Fn5hOheJSUwm",
        "outputId": "036da0cd-9169-4b5f-dd35-75a37c42cd78"
      },
      "source": [
        "tp=0\n",
        "fp=0\n",
        "fn=0\n",
        "tn=0\n",
        "for X, y, _ in test_loader:\n",
        "    pred = (net1.forward(X.float().view(100, -1)) > 0.5).float()\n",
        "    for predicted, real in zip(pred, y):\n",
        "        if real == 1:\n",
        "            if predicted == 1:\n",
        "                tp += 1\n",
        "            else:\n",
        "                fn += 1\n",
        "        elif predicted == 1:\n",
        "            fp += 1\n",
        "        else:\n",
        "            tn += 1\n",
        "precision = tp / (tp + fp)\n",
        "recall = tp / (tp + fn)\n",
        "accuracy = (tp+tn)/(tp+fp+fn+tn)\n",
        "print(f\"final precision: {precision}, recall: {recall}, accuracy: {accuracy}\")"
      ],
      "execution_count": 11,
      "outputs": [
        {
          "output_type": "stream",
          "text": [
            "final precision: 1.0, recall: 0.8183856502242153, accuracy: 0.9838\n"
          ],
          "name": "stdout"
        }
      ]
    },
    {
      "cell_type": "code",
      "metadata": {
        "id": "Xxma0RFi5-s_",
        "colab": {
          "base_uri": "https://localhost:8080/"
        },
        "outputId": "86eaed59-f80c-4486-d12f-e3ba0dc408de"
      },
      "source": [
        "loader_for_ate = DataLoader(framed_test, batch_size=1)\n",
        "cumulative_diff = 0\n",
        "total = 0\n",
        "framed_5 = 0\n",
        "for X, y, f in loader_for_ate:\n",
        "    if y.item():\n",
        "        if f.item():\n",
        "            cf = unframe(X[0], 1)\n",
        "            cumulative_diff += (net1.forward(X.float().view(1, -1)).item() - net1.forward(cf.float().view(1, -1)).item())\n",
        "            framed_5 += 1\n",
        "        else:\n",
        "            cf = frame(X[0], 1)\n",
        "            cumulative_diff += (net1.forward(cf.float().view(1, -1)).item() - net1.forward(X.float().view(1, -1)).item())\n",
        "        total += 1\n",
        "\n",
        "print(f\"calculated CaCE for 'frame' concept: {cumulative_diff / total}\")\n",
        "print(f\"recall is {recall} and proportion of framed points of class is {framed_5/total}\")"
      ],
      "execution_count": null,
      "outputs": [
        {
          "output_type": "stream",
          "text": [
            "calculated CaCE for 'frame' concept: 1.0\n",
            "recall is 0.7881165919282511 and proportion of framed points of class is 0.7881165919282511\n"
          ],
          "name": "stdout"
        }
      ]
    },
    {
      "cell_type": "markdown",
      "metadata": {
        "id": "qUmRDwCz87ro"
      },
      "source": [
        "We got a CaCE of 1.0 (!) for the concept of having a frame present in the image. This means that the neural network relies solely on the presence of a frame that we added around the target image, which is undesirable behavior. This also explains the precision (1.0) and recall~ =0.8~=proportion_of_framed we got in the training process, as the network predicts that only images with a frame are the correct ones, therefore never being wrong and achieving a precision of 1.0, however for the (on average) 20% of correct images which didn't have a frame added to them, the network never predicts them to be correct therefore achieving ~80% recall.\n",
        "We can see that the CaCE correctly identifies undesirable behavior of the network as it shows that it relies on our fabricated concept."
      ]
    },
    {
      "cell_type": "markdown",
      "metadata": {
        "id": "H5wkO_EfGoSS"
      },
      "source": [
        "# ACE calculation & visualization"
      ]
    },
    {
      "cell_type": "code",
      "metadata": {
        "colab": {
          "base_uri": "https://localhost:8080/"
        },
        "id": "Q4fEIvJgGr13",
        "outputId": "1d5c9bed-9f03-4629-be4b-944cbf6cff41"
      },
      "source": [
        "loader_for_ace = DataLoader(framed_test, batch_size=1, shuffle=True)\n",
        "ace = torch.zeros((28,28)) # Initializing ace per pixel\n",
        "counter = 0\n",
        "for X, y, f in loader_for_ace:\n",
        "    X = X[0]\n",
        "    baseline = net1.forward(X.float().view(1, -1)).item()\n",
        "    for i in range(28):\n",
        "      for j in range(28):\n",
        "        intervened_X = torch.clone(X)\n",
        "        intervened_X[i][j] = 0\n",
        "        intervened_pred = net1.forward(intervened_X.float().view(1, -1)).item()\n",
        "        ace[i][j] += intervened_pred - baseline\n",
        "    counter += 1\n",
        "    if counter % 1000 == 0:\n",
        "      print(f'finished {counter}')\n",
        "    if counter % 3333 == 0:\n",
        "      print(ace/counter)\n",
        "ace /= counter"
      ],
      "execution_count": null,
      "outputs": [
        {
          "output_type": "stream",
          "text": [
            "finished 1000\n",
            "finished 2000\n",
            "finished 3000\n",
            "tensor([[0., 0., 0., 0., 0., 0., 0., 0., 0., 0., 0., 0., 0., 0., 0., 0., 0., 0., 0., 0., 0., 0., 0., 0.,\n",
            "         0., 0., 0., 0.],\n",
            "        [0., 0., 0., 0., 0., 0., 0., 0., 0., 0., 0., 0., 0., 0., 0., 0., 0., 0., 0., 0., 0., 0., 0., 0.,\n",
            "         0., 0., 0., 0.],\n",
            "        [0., 0., 0., 0., 0., 0., 0., 0., 0., 0., 0., 0., 0., 0., 0., 0., 0., 0., 0., 0., 0., 0., 0., 0.,\n",
            "         0., 0., 0., 0.],\n",
            "        [0., 0., 0., 0., 0., 0., 0., 0., 0., 0., 0., 0., 0., 0., 0., 0., 0., 0., 0., 0., 0., 0., 0., 0.,\n",
            "         0., 0., 0., 0.],\n",
            "        [0., 0., 0., 0., 0., 0., 0., 0., 0., 0., 0., 0., 0., 0., 0., 0., 0., 0., 0., 0., 0., 0., 0., 0.,\n",
            "         0., 0., 0., 0.],\n",
            "        [0., 0., 0., 0., 0., 0., 0., 0., 0., 0., 0., 0., 0., 0., 0., 0., 0., 0., 0., 0., 0., 0., 0., 0.,\n",
            "         0., 0., 0., 0.],\n",
            "        [0., 0., 0., 0., 0., 0., 0., 0., 0., 0., 0., 0., 0., 0., 0., 0., 0., 0., 0., 0., 0., 0., 0., 0.,\n",
            "         0., 0., 0., 0.],\n",
            "        [0., 0., 0., 0., 0., 0., 0., 0., 0., 0., 0., 0., 0., 0., 0., 0., 0., 0., 0., 0., 0., 0., 0., 0.,\n",
            "         0., 0., 0., 0.],\n",
            "        [0., 0., 0., 0., 0., 0., 0., 0., 0., 0., 0., 0., 0., 0., 0., 0., 0., 0., 0., 0., 0., 0., 0., 0.,\n",
            "         0., 0., 0., 0.],\n",
            "        [0., 0., 0., 0., 0., 0., 0., 0., 0., 0., 0., 0., 0., 0., 0., 0., 0., 0., 0., 0., 0., 0., 0., 0.,\n",
            "         0., 0., 0., 0.],\n",
            "        [0., 0., 0., 0., 0., 0., 0., 0., 0., 0., 0., 0., 0., 0., 0., 0., 0., 0., 0., 0., 0., 0., 0., 0.,\n",
            "         0., 0., 0., 0.],\n",
            "        [0., 0., 0., 0., 0., 0., 0., 0., 0., 0., 0., 0., 0., 0., 0., 0., 0., 0., 0., 0., 0., 0., 0., 0.,\n",
            "         0., 0., 0., 0.],\n",
            "        [0., 0., 0., 0., 0., 0., 0., 0., 0., 0., 0., 0., 0., 0., 0., 0., 0., 0., 0., 0., 0., 0., 0., 0.,\n",
            "         0., 0., 0., 0.],\n",
            "        [0., 0., 0., 0., 0., 0., 0., 0., 0., 0., 0., 0., 0., 0., 0., 0., 0., 0., 0., 0., 0., 0., 0., 0.,\n",
            "         0., 0., 0., 0.],\n",
            "        [0., 0., 0., 0., 0., 0., 0., 0., 0., 0., 0., 0., 0., 0., 0., 0., 0., 0., 0., 0., 0., 0., 0., 0.,\n",
            "         0., 0., 0., 0.],\n",
            "        [0., 0., 0., 0., 0., 0., 0., 0., 0., 0., 0., 0., 0., 0., 0., 0., 0., 0., 0., 0., 0., 0., 0., 0.,\n",
            "         0., 0., 0., 0.],\n",
            "        [0., 0., 0., 0., 0., 0., 0., 0., 0., 0., 0., 0., 0., 0., 0., 0., 0., 0., 0., 0., 0., 0., 0., 0.,\n",
            "         0., 0., 0., 0.],\n",
            "        [0., 0., 0., 0., 0., 0., 0., 0., 0., 0., 0., 0., 0., 0., 0., 0., 0., 0., 0., 0., 0., 0., 0., 0.,\n",
            "         0., 0., 0., 0.],\n",
            "        [0., 0., 0., 0., 0., 0., 0., 0., 0., 0., 0., 0., 0., 0., 0., 0., 0., 0., 0., 0., 0., 0., 0., 0.,\n",
            "         0., 0., 0., 0.],\n",
            "        [0., 0., 0., 0., 0., 0., 0., 0., 0., 0., 0., 0., 0., 0., 0., 0., 0., 0., 0., 0., 0., 0., 0., 0.,\n",
            "         0., 0., 0., 0.],\n",
            "        [0., 0., 0., 0., 0., 0., 0., 0., 0., 0., 0., 0., 0., 0., 0., 0., 0., 0., 0., 0., 0., 0., 0., 0.,\n",
            "         0., 0., 0., 0.],\n",
            "        [0., 0., 0., 0., 0., 0., 0., 0., 0., 0., 0., 0., 0., 0., 0., 0., 0., 0., 0., 0., 0., 0., 0., 0.,\n",
            "         0., 0., 0., 0.],\n",
            "        [0., 0., 0., 0., 0., 0., 0., 0., 0., 0., 0., 0., 0., 0., 0., 0., 0., 0., 0., 0., 0., 0., 0., 0.,\n",
            "         0., 0., 0., 0.],\n",
            "        [0., 0., 0., 0., 0., 0., 0., 0., 0., 0., 0., 0., 0., 0., 0., 0., 0., 0., 0., 0., 0., 0., 0., 0.,\n",
            "         0., 0., 0., 0.],\n",
            "        [0., 0., 0., 0., 0., 0., 0., 0., 0., 0., 0., 0., 0., 0., 0., 0., 0., 0., 0., 0., 0., 0., 0., 0.,\n",
            "         0., 0., 0., 0.],\n",
            "        [0., 0., 0., 0., 0., 0., 0., 0., 0., 0., 0., 0., 0., 0., 0., 0., 0., 0., 0., 0., 0., 0., 0., 0.,\n",
            "         0., 0., 0., 0.],\n",
            "        [0., 0., 0., 0., 0., 0., 0., 0., 0., 0., 0., 0., 0., 0., 0., 0., 0., 0., 0., 0., 0., 0., 0., 0.,\n",
            "         0., 0., 0., 0.],\n",
            "        [0., 0., 0., 0., 0., 0., 0., 0., 0., 0., 0., 0., 0., 0., 0., 0., 0., 0., 0., 0., 0., 0., 0., 0.,\n",
            "         0., 0., 0., 0.]])\n",
            "finished 4000\n",
            "finished 5000\n",
            "finished 6000\n",
            "tensor([[0., 0., 0., 0., 0., 0., 0., 0., 0., 0., 0., 0., 0., 0., 0., 0., 0., 0., 0., 0., 0., 0., 0., 0.,\n",
            "         0., 0., 0., 0.],\n",
            "        [0., 0., 0., 0., 0., 0., 0., 0., 0., 0., 0., 0., 0., 0., 0., 0., 0., 0., 0., 0., 0., 0., 0., 0.,\n",
            "         0., 0., 0., 0.],\n",
            "        [0., 0., 0., 0., 0., 0., 0., 0., 0., 0., 0., 0., 0., 0., 0., 0., 0., 0., 0., 0., 0., 0., 0., 0.,\n",
            "         0., 0., 0., 0.],\n",
            "        [0., 0., 0., 0., 0., 0., 0., 0., 0., 0., 0., 0., 0., 0., 0., 0., 0., 0., 0., 0., 0., 0., 0., 0.,\n",
            "         0., 0., 0., 0.],\n",
            "        [0., 0., 0., 0., 0., 0., 0., 0., 0., 0., 0., 0., 0., 0., 0., 0., 0., 0., 0., 0., 0., 0., 0., 0.,\n",
            "         0., 0., 0., 0.],\n",
            "        [0., 0., 0., 0., 0., 0., 0., 0., 0., 0., 0., 0., 0., 0., 0., 0., 0., 0., 0., 0., 0., 0., 0., 0.,\n",
            "         0., 0., 0., 0.],\n",
            "        [0., 0., 0., 0., 0., 0., 0., 0., 0., 0., 0., 0., 0., 0., 0., 0., 0., 0., 0., 0., 0., 0., 0., 0.,\n",
            "         0., 0., 0., 0.],\n",
            "        [0., 0., 0., 0., 0., 0., 0., 0., 0., 0., 0., 0., 0., 0., 0., 0., 0., 0., 0., 0., 0., 0., 0., 0.,\n",
            "         0., 0., 0., 0.],\n",
            "        [0., 0., 0., 0., 0., 0., 0., 0., 0., 0., 0., 0., 0., 0., 0., 0., 0., 0., 0., 0., 0., 0., 0., 0.,\n",
            "         0., 0., 0., 0.],\n",
            "        [0., 0., 0., 0., 0., 0., 0., 0., 0., 0., 0., 0., 0., 0., 0., 0., 0., 0., 0., 0., 0., 0., 0., 0.,\n",
            "         0., 0., 0., 0.],\n",
            "        [0., 0., 0., 0., 0., 0., 0., 0., 0., 0., 0., 0., 0., 0., 0., 0., 0., 0., 0., 0., 0., 0., 0., 0.,\n",
            "         0., 0., 0., 0.],\n",
            "        [0., 0., 0., 0., 0., 0., 0., 0., 0., 0., 0., 0., 0., 0., 0., 0., 0., 0., 0., 0., 0., 0., 0., 0.,\n",
            "         0., 0., 0., 0.],\n",
            "        [0., 0., 0., 0., 0., 0., 0., 0., 0., 0., 0., 0., 0., 0., 0., 0., 0., 0., 0., 0., 0., 0., 0., 0.,\n",
            "         0., 0., 0., 0.],\n",
            "        [0., 0., 0., 0., 0., 0., 0., 0., 0., 0., 0., 0., 0., 0., 0., 0., 0., 0., 0., 0., 0., 0., 0., 0.,\n",
            "         0., 0., 0., 0.],\n",
            "        [0., 0., 0., 0., 0., 0., 0., 0., 0., 0., 0., 0., 0., 0., 0., 0., 0., 0., 0., 0., 0., 0., 0., 0.,\n",
            "         0., 0., 0., 0.],\n",
            "        [0., 0., 0., 0., 0., 0., 0., 0., 0., 0., 0., 0., 0., 0., 0., 0., 0., 0., 0., 0., 0., 0., 0., 0.,\n",
            "         0., 0., 0., 0.],\n",
            "        [0., 0., 0., 0., 0., 0., 0., 0., 0., 0., 0., 0., 0., 0., 0., 0., 0., 0., 0., 0., 0., 0., 0., 0.,\n",
            "         0., 0., 0., 0.],\n",
            "        [0., 0., 0., 0., 0., 0., 0., 0., 0., 0., 0., 0., 0., 0., 0., 0., 0., 0., 0., 0., 0., 0., 0., 0.,\n",
            "         0., 0., 0., 0.],\n",
            "        [0., 0., 0., 0., 0., 0., 0., 0., 0., 0., 0., 0., 0., 0., 0., 0., 0., 0., 0., 0., 0., 0., 0., 0.,\n",
            "         0., 0., 0., 0.],\n",
            "        [0., 0., 0., 0., 0., 0., 0., 0., 0., 0., 0., 0., 0., 0., 0., 0., 0., 0., 0., 0., 0., 0., 0., 0.,\n",
            "         0., 0., 0., 0.],\n",
            "        [0., 0., 0., 0., 0., 0., 0., 0., 0., 0., 0., 0., 0., 0., 0., 0., 0., 0., 0., 0., 0., 0., 0., 0.,\n",
            "         0., 0., 0., 0.],\n",
            "        [0., 0., 0., 0., 0., 0., 0., 0., 0., 0., 0., 0., 0., 0., 0., 0., 0., 0., 0., 0., 0., 0., 0., 0.,\n",
            "         0., 0., 0., 0.],\n",
            "        [0., 0., 0., 0., 0., 0., 0., 0., 0., 0., 0., 0., 0., 0., 0., 0., 0., 0., 0., 0., 0., 0., 0., 0.,\n",
            "         0., 0., 0., 0.],\n",
            "        [0., 0., 0., 0., 0., 0., 0., 0., 0., 0., 0., 0., 0., 0., 0., 0., 0., 0., 0., 0., 0., 0., 0., 0.,\n",
            "         0., 0., 0., 0.],\n",
            "        [0., 0., 0., 0., 0., 0., 0., 0., 0., 0., 0., 0., 0., 0., 0., 0., 0., 0., 0., 0., 0., 0., 0., 0.,\n",
            "         0., 0., 0., 0.],\n",
            "        [0., 0., 0., 0., 0., 0., 0., 0., 0., 0., 0., 0., 0., 0., 0., 0., 0., 0., 0., 0., 0., 0., 0., 0.,\n",
            "         0., 0., 0., 0.],\n",
            "        [0., 0., 0., 0., 0., 0., 0., 0., 0., 0., 0., 0., 0., 0., 0., 0., 0., 0., 0., 0., 0., 0., 0., 0.,\n",
            "         0., 0., 0., 0.],\n",
            "        [0., 0., 0., 0., 0., 0., 0., 0., 0., 0., 0., 0., 0., 0., 0., 0., 0., 0., 0., 0., 0., 0., 0., 0.,\n",
            "         0., 0., 0., 0.]])\n",
            "finished 7000\n",
            "finished 8000\n",
            "finished 9000\n",
            "tensor([[0., 0., 0., 0., 0., 0., 0., 0., 0., 0., 0., 0., 0., 0., 0., 0., 0., 0., 0., 0., 0., 0., 0., 0.,\n",
            "         0., 0., 0., 0.],\n",
            "        [0., 0., 0., 0., 0., 0., 0., 0., 0., 0., 0., 0., 0., 0., 0., 0., 0., 0., 0., 0., 0., 0., 0., 0.,\n",
            "         0., 0., 0., 0.],\n",
            "        [0., 0., 0., 0., 0., 0., 0., 0., 0., 0., 0., 0., 0., 0., 0., 0., 0., 0., 0., 0., 0., 0., 0., 0.,\n",
            "         0., 0., 0., 0.],\n",
            "        [0., 0., 0., 0., 0., 0., 0., 0., 0., 0., 0., 0., 0., 0., 0., 0., 0., 0., 0., 0., 0., 0., 0., 0.,\n",
            "         0., 0., 0., 0.],\n",
            "        [0., 0., 0., 0., 0., 0., 0., 0., 0., 0., 0., 0., 0., 0., 0., 0., 0., 0., 0., 0., 0., 0., 0., 0.,\n",
            "         0., 0., 0., 0.],\n",
            "        [0., 0., 0., 0., 0., 0., 0., 0., 0., 0., 0., 0., 0., 0., 0., 0., 0., 0., 0., 0., 0., 0., 0., 0.,\n",
            "         0., 0., 0., 0.],\n",
            "        [0., 0., 0., 0., 0., 0., 0., 0., 0., 0., 0., 0., 0., 0., 0., 0., 0., 0., 0., 0., 0., 0., 0., 0.,\n",
            "         0., 0., 0., 0.],\n",
            "        [0., 0., 0., 0., 0., 0., 0., 0., 0., 0., 0., 0., 0., 0., 0., 0., 0., 0., 0., 0., 0., 0., 0., 0.,\n",
            "         0., 0., 0., 0.],\n",
            "        [0., 0., 0., 0., 0., 0., 0., 0., 0., 0., 0., 0., 0., 0., 0., 0., 0., 0., 0., 0., 0., 0., 0., 0.,\n",
            "         0., 0., 0., 0.],\n",
            "        [0., 0., 0., 0., 0., 0., 0., 0., 0., 0., 0., 0., 0., 0., 0., 0., 0., 0., 0., 0., 0., 0., 0., 0.,\n",
            "         0., 0., 0., 0.],\n",
            "        [0., 0., 0., 0., 0., 0., 0., 0., 0., 0., 0., 0., 0., 0., 0., 0., 0., 0., 0., 0., 0., 0., 0., 0.,\n",
            "         0., 0., 0., 0.],\n",
            "        [0., 0., 0., 0., 0., 0., 0., 0., 0., 0., 0., 0., 0., 0., 0., 0., 0., 0., 0., 0., 0., 0., 0., 0.,\n",
            "         0., 0., 0., 0.],\n",
            "        [0., 0., 0., 0., 0., 0., 0., 0., 0., 0., 0., 0., 0., 0., 0., 0., 0., 0., 0., 0., 0., 0., 0., 0.,\n",
            "         0., 0., 0., 0.],\n",
            "        [0., 0., 0., 0., 0., 0., 0., 0., 0., 0., 0., 0., 0., 0., 0., 0., 0., 0., 0., 0., 0., 0., 0., 0.,\n",
            "         0., 0., 0., 0.],\n",
            "        [0., 0., 0., 0., 0., 0., 0., 0., 0., 0., 0., 0., 0., 0., 0., 0., 0., 0., 0., 0., 0., 0., 0., 0.,\n",
            "         0., 0., 0., 0.],\n",
            "        [0., 0., 0., 0., 0., 0., 0., 0., 0., 0., 0., 0., 0., 0., 0., 0., 0., 0., 0., 0., 0., 0., 0., 0.,\n",
            "         0., 0., 0., 0.],\n",
            "        [0., 0., 0., 0., 0., 0., 0., 0., 0., 0., 0., 0., 0., 0., 0., 0., 0., 0., 0., 0., 0., 0., 0., 0.,\n",
            "         0., 0., 0., 0.],\n",
            "        [0., 0., 0., 0., 0., 0., 0., 0., 0., 0., 0., 0., 0., 0., 0., 0., 0., 0., 0., 0., 0., 0., 0., 0.,\n",
            "         0., 0., 0., 0.],\n",
            "        [0., 0., 0., 0., 0., 0., 0., 0., 0., 0., 0., 0., 0., 0., 0., 0., 0., 0., 0., 0., 0., 0., 0., 0.,\n",
            "         0., 0., 0., 0.],\n",
            "        [0., 0., 0., 0., 0., 0., 0., 0., 0., 0., 0., 0., 0., 0., 0., 0., 0., 0., 0., 0., 0., 0., 0., 0.,\n",
            "         0., 0., 0., 0.],\n",
            "        [0., 0., 0., 0., 0., 0., 0., 0., 0., 0., 0., 0., 0., 0., 0., 0., 0., 0., 0., 0., 0., 0., 0., 0.,\n",
            "         0., 0., 0., 0.],\n",
            "        [0., 0., 0., 0., 0., 0., 0., 0., 0., 0., 0., 0., 0., 0., 0., 0., 0., 0., 0., 0., 0., 0., 0., 0.,\n",
            "         0., 0., 0., 0.],\n",
            "        [0., 0., 0., 0., 0., 0., 0., 0., 0., 0., 0., 0., 0., 0., 0., 0., 0., 0., 0., 0., 0., 0., 0., 0.,\n",
            "         0., 0., 0., 0.],\n",
            "        [0., 0., 0., 0., 0., 0., 0., 0., 0., 0., 0., 0., 0., 0., 0., 0., 0., 0., 0., 0., 0., 0., 0., 0.,\n",
            "         0., 0., 0., 0.],\n",
            "        [0., 0., 0., 0., 0., 0., 0., 0., 0., 0., 0., 0., 0., 0., 0., 0., 0., 0., 0., 0., 0., 0., 0., 0.,\n",
            "         0., 0., 0., 0.],\n",
            "        [0., 0., 0., 0., 0., 0., 0., 0., 0., 0., 0., 0., 0., 0., 0., 0., 0., 0., 0., 0., 0., 0., 0., 0.,\n",
            "         0., 0., 0., 0.],\n",
            "        [0., 0., 0., 0., 0., 0., 0., 0., 0., 0., 0., 0., 0., 0., 0., 0., 0., 0., 0., 0., 0., 0., 0., 0.,\n",
            "         0., 0., 0., 0.],\n",
            "        [0., 0., 0., 0., 0., 0., 0., 0., 0., 0., 0., 0., 0., 0., 0., 0., 0., 0., 0., 0., 0., 0., 0., 0.,\n",
            "         0., 0., 0., 0.]])\n",
            "finished 10000\n"
          ],
          "name": "stdout"
        }
      ]
    },
    {
      "cell_type": "code",
      "metadata": {
        "colab": {
          "base_uri": "https://localhost:8080/",
          "height": 281
        },
        "id": "JVOCFlrEwMQP",
        "outputId": "92198854-62a0-4748-cf4f-b0d1d392321b"
      },
      "source": [
        "plt.imshow(ace, cmap='coolwarm', aspect='equal',interpolation='nearest')\n",
        "plt.colorbar()\n",
        "plt.title(\"ACE of class neuron 5 on the pixels of decoded image\")\n",
        "plt.savefig(\"ACE of class neuron 5 on the pixels of decoded image\" , dpi=1000)\n",
        "plt.show()"
      ],
      "execution_count": null,
      "outputs": [
        {
          "output_type": "display_data",
          "data": {
            "image/png": "[encoded data removed]",
            "text/plain": [
              "<Figure size 432x288 with 2 Axes>"
            ]
          },
          "metadata": {
            "tags": [],
            "needs_background": "light"
          }
        }
      ]
    },
    {
      "cell_type": "markdown",
      "metadata": {
        "id": "Ns6NrrBFXVVM"
      },
      "source": [
        "We got ACE matrix of zeroes, this means we couldn't find a causal effect of any pixels on the output. This can be explained by the in-sensitivity of ACE to concepts and also the extremality of the bias in our NN towards the concept of frame in class=5 images."
      ]
    }
  ]
}